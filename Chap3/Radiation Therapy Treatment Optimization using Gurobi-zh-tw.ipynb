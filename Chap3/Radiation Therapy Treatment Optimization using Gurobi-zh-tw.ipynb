{
 "cells": [
  {
   "cell_type": "markdown",
   "metadata": {},
   "source": [
    "# 使用 Gurobi 進行放射治療優化\n",
    "\n",
    "在本範例中，我們將使用 Gurobi 在 Python 中建模並解決放射治療優化問題。目標是最小化對健康組織的輻射暴露，同時確保腫瘤區域獲得足夠的輻射劑量以進行癌症治療。\n",
    "\n",
    "**問題描述：**\n",
    "\n",
    "- **決策變數：**\n",
    "  - $x_1$, $x_2$: 連續變數，表示治療強度或幾何形狀。\n",
    "  - **Binary variables (0/1):** 代表是否在特定位置（例如，近距離治療中的放射性種子植入）放置的決策。\n",
    "- **目標函數：**\n",
    "  $$\n",
    "  \\text{Minimize } Z = 0.4x_1 + 0.5x_2\n",
    "  $$\n",
    "  其中 $Z$ 代表治療影響（健康組織的損傷）的加權總和。\n",
    "\n",
    "- **約束條件：**\n",
    "  $$\n",
    "  0.3x_1 + 0.1x_2 \\leq 2.7\n",
    "  $$\n",
    "  $$\n",
    "  0.5x_1 + 0.5x_2 = 6\n",
    "  $$\n",
    "  $$\n",
    "  0.6x_1 + 0.4x_2 \\geq 6\n",
    "  $$\n",
    "  - 非負性約束：$x_1 \\geq 0$, $x_2 \\geq 0$。\n",
    "\n",
    "此模型為一個 **混合整數規劃**（MIP）問題，其中連續變數和二元變數結合使用來優化醫療治療計畫。這類模型特別適用於自動化系統，需進行離散決策，例如在近距離治療中植入種子的問題。"
   ]
  },
  {
   "cell_type": "markdown",
   "metadata": {},
   "source": [
    "## 第一步：導入 Gurobi 並設置環境\n",
    "\n",
    "Gurobi 是一個強大的優化求解器，能夠處理線性規劃、混合整數規劃等數學優化問題。我們導入 `gurobipy` 模組以訪問其功能和類別。\n"
   ]
  },
  {
   "cell_type": "code",
   "execution_count": 1,
   "metadata": {},
   "outputs": [],
   "source": [
    "import gurobipy as gp\n",
    "from gurobipy import GRB"
   ]
  },
  {
   "cell_type": "markdown",
   "metadata": {},
   "source": [
    "## 第二步：創建新模型\n",
    "\n",
    "我們創建一個新的模型物件，並將決策變數、目標函數和約束條件添加到其中。命名模型有助於識別它，特別是在處理多個模型時。\n"
   ]
  },
  {
   "cell_type": "code",
   "execution_count": 2,
   "metadata": {},
   "outputs": [
    {
     "name": "stdout",
     "output_type": "stream",
     "text": [
      "Set parameter Username\n",
      "Academic license - for non-commercial use only - expires 2025-05-31\n"
     ]
    }
   ],
   "source": [
    "# 創建新模型\n",
    "model = gp.Model('Radiation_Therapy_Optimization')"
   ]
  },
  {
   "cell_type": "markdown",
   "metadata": {},
   "source": [
    "## 第三步：定義決策變數\n",
    "\n",
    "我們定義了以下決策變數：\n",
    "\n",
    "- 連續變數 \\( x_1 \\) 和 \\( x_2 \\)，表示治療強度。\n",
    "- 二元變數 \\( y_1 \\) 和 \\( y_2 \\)，表示放置決策（例如，是否在特定位置植入放射性種子）。\n",
    "\n",
    "連續變數有下限 0，二元變數可以取值 0 或 1。\n"
   ]
  },
  {
   "cell_type": "code",
   "execution_count": 3,
   "metadata": {},
   "outputs": [],
   "source": [
    "# 添加連續決策變數\n",
    "x1 = model.addVar(name='x1', vtype=GRB.CONTINUOUS, lb=0)\n",
    "x2 = model.addVar(name='x2', vtype=GRB.CONTINUOUS, lb=0)\n",
    "\n",
    "# 添加二元決策變數\n",
    "y1 = model.addVar(name='y1', vtype=GRB.BINARY)\n",
    "y2 = model.addVar(name='y2', vtype=GRB.BINARY)"
   ]
  },
  {
   "cell_type": "markdown",
   "metadata": {},
   "source": [
    "## 第四步：設置目標函數\n",
    "\n",
    "目標函數的目的是最小化對健康組織影響的加權總和：\n",
    "\n",
    "\\[\n",
    "\\text{Minimize } Z = 0.4x_1 + 0.5x_2\n",
    "\\]\n",
    "\n",
    "我們使用 `setObjective` 方法將此目標設置到模型中，並指定 `GRB.MINIMIZE` 表示我們要最小化目標函數。\n"
   ]
  },
  {
   "cell_type": "code",
   "execution_count": 4,
   "metadata": {},
   "outputs": [],
   "source": [
    "# 設置目標函數\n",
    "model.setObjective(0.4 * x1 + 0.5 * x2, GRB.MINIMIZE)"
   ]
  },
  {
   "cell_type": "markdown",
   "metadata": {},
   "source": [
    "## 第五步：添加約束條件\n",
    "\n",
    "我們使用 `addConstr` 方法將約束條件添加到模型中。\n",
    "\n",
    "### 約束 1：\n",
    "\n",
    "$$\n",
    "0.3x_1 + 0.1x_2 \\leq 2.7\n",
    "$$\n",
    "\n",
    "此約束限制了對某個敏感區域的輻射暴露。\n",
    "\n",
    "### 約束 2：\n",
    "\n",
    "$$\n",
    "0.5x_1 + 0.5x_2 = 6\n",
    "$$\n",
    "\n",
    "此約束確保總治療強度達到所需的水平。\n",
    "\n",
    "### 約束 3：\n",
    "\n",
    "$$\n",
    "0.6x_1 + 0.4x_2 \\geq 6\n",
    "$$\n",
    "\n",
    "此約束確保腫瘤區域獲得足夠的輻射。\n",
    "\n",
    "### 連結連續變數與二元變數：\n",
    "\n",
    "如果我們希望建模為當二元變數 $y_i$ 為 1 時，連續變數 $x_i$ 才可以為正值（即進行治療），我們可以添加以下約束：\n",
    "\n",
    "$$\n",
    "x_i \\leq M y_i \\quad \\text{for } i = 1, 2\n",
    "$$\n",
    "\n",
    "其中 $M$ 為一個足夠大的常數。\n",
    "\n",
    "假設 $M = 10$，我們添加這些約束來連結 $x_i$ 和 $y_i$。\n"
   ]
  },
  {
   "cell_type": "code",
   "execution_count": 5,
   "metadata": {},
   "outputs": [
    {
     "data": {
      "text/plain": [
       "<gurobi.Constr *Awaiting Model Update*>"
      ]
     },
     "execution_count": 5,
     "metadata": {},
     "output_type": "execute_result"
    }
   ],
   "source": [
    "# 添加約束條件\n",
    "model.addConstr(0.3 * x1 + 0.1 * x2 <= 2.7, name='Constraint1')\n",
    "model.addConstr(0.5 * x1 + 0.5 * x2 == 6, name='Constraint2')\n",
    "model.addConstr(0.6 * x1 + 0.4 * x2 >= 6, name='Constraint3')\n",
    "\n",
    "# 連結約束條件 x_i 和 y_i\n",
    "M = 10  # 大常數\n",
    "model.addConstr(x1 <= M * y1, name='Linking_x1_y1')\n",
    "model.addConstr(x2 <= M * y2, name='Linking_x2_y2')"
   ]
  },
  {
   "cell_type": "markdown",
   "metadata": {},
   "source": [
    "## 第六步：優化模型\n",
    "\n",
    "模型定義完成後，我們調用 `optimize` 方法來解決優化問題。Gurobi 使用先進的演算法來有效地找到最佳解。\n"
   ]
  },
  {
   "cell_type": "code",
   "execution_count": 6,
   "metadata": {},
   "outputs": [
    {
     "name": "stdout",
     "output_type": "stream",
     "text": [
      "Gurobi Optimizer version 11.0.3 build v11.0.3rc0 (mac64[arm] - Darwin 24.1.0 24B5046f)\n",
      "\n",
      "CPU model: Apple M2\n",
      "Thread count: 8 physical cores, 8 logical processors, using up to 8 threads\n",
      "\n",
      "Optimize a model with 5 rows, 4 columns and 10 nonzeros\n",
      "Model fingerprint: 0xe9022a0c\n",
      "Variable types: 2 continuous, 2 integer (2 binary)\n",
      "Coefficient statistics:\n",
      "  Matrix range     [1e-01, 1e+01]\n",
      "  Objective range  [4e-01, 5e-01]\n",
      "  Bounds range     [1e+00, 1e+00]\n",
      "  RHS range        [3e+00, 6e+00]\n",
      "Presolve removed 5 rows and 4 columns\n",
      "Presolve time: 0.00s\n",
      "Presolve: All rows and columns removed\n",
      "\n",
      "Explored 0 nodes (0 simplex iterations) in 0.01 seconds (0.00 work units)\n",
      "Thread count was 1 (of 8 available processors)\n",
      "\n",
      "Solution count 1: 5.25 \n",
      "\n",
      "Optimal solution found (tolerance 1.00e-04)\n",
      "Best objective 5.250000000000e+00, best bound 5.250000000000e+00, gap 0.0000%\n"
     ]
    }
   ],
   "source": [
    "# 優化模型\n",
    "model.optimize()"
   ]
  },
  {
   "cell_type": "markdown",
   "metadata": {},
   "source": [
    "## 第七步：顯示結果\n",
    "\n",
    "在優化過程完成後，我們可以訪問決策變數的最佳值以及目標函數的值。我們先檢查模型的狀態是否為 `GRB.OPTIMAL`，以確保找到最佳解，然後再顯示結果。\n"
   ]
  },
  {
   "cell_type": "code",
   "execution_count": 7,
   "metadata": {},
   "outputs": [
    {
     "name": "stdout",
     "output_type": "stream",
     "text": [
      "Optimal solution found:\n",
      "  x1 (Treatment intensity 1) = 7.5\n",
      "  x2 (Treatment intensity 2) = 4.5\n",
      "  y1 (Placement decision 1) = 1.0\n",
      "  y2 (Placement decision 2) = 1.0\n",
      "  Minimum impact (Z) = 5.25\n"
     ]
    }
   ],
   "source": [
    "# 檢查模型是否有最佳解\n",
    "if model.status == GRB.OPTIMAL:\n",
    "    print(\"Optimal solution found:\")\n",
    "    print(f\"  x1 (Treatment intensity 1) = {x1.x}\")\n",
    "    print(f\"  x2 (Treatment intensity 2) = {x2.x}\")\n",
    "    print(f\"  y1 (Placement decision 1) = {y1.x}\")\n",
    "    print(f\"  y2 (Placement decision 2) = {y2.x}\")\n",
    "    print(f\"  Minimum impact (Z) = {model.objVal}\")\n",
    "else:\n",
    "    print(\"No optimal solution found.\")"
   ]
  },
  {
   "cell_type": "markdown",
   "metadata": {},
   "source": [
    "## 結果解讀\n",
    "\n",
    "最佳解提供了治療強度和放置決策，這樣可以在最小化對健康組織的影響的同時，確保腫瘤區域獲得足夠的輻射劑量。二元變數 $y_1$ 和 $y_2$ 表示是否在特定位置進行治療。\n"
   ]
  }
 ],
 "metadata": {
  "kernelspec": {
   "display_name": "Python 3",
   "language": "python",
   "name": "python3"
  },
  "language_info": {
   "codemirror_mode": {
    "name": "ipython",
    "version": 3
   },
   "file_extension": ".py",
   "mimetype": "text/x-python",
   "name": "python",
   "nbconvert_exporter": "python",
   "pygments_lexer": "ipython3",
   "version": "3.11.9"
  }
 },
 "nbformat": 4,
 "nbformat_minor": 2
}
