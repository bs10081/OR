{
 "cells": [
  {
   "cell_type": "markdown",
   "metadata": {},
   "source": [
    "# Wyndor Glass Co. 使用 Gurobi 的線性規劃問題\n",
    "\n",
    "在這個例子中，我們將使用 Python 中的 Gurobi 來建模和解決 Wyndor Glass Co. 的線性規劃問題。目標是在考慮三個工廠的生產能力的情況下，最大化生產兩種產品的總利潤。\n",
    "\n",
    "**問題描述：**\n",
    "\n",
    "- **決策變數：**\n",
    "  - $x_1$：每週生產的產品 1 的批次數。\n",
    "  - $x_2$：每週生產的產品 2 的批次數。\n",
    "\n",
    "- **目標函數：** \n",
    "  $$\n",
    "  \\text{Maximize } Z = 3x_1 + 5x_2\n",
    "  $$\n",
    "  其中 $Z$ 是每週的總利潤（以千美元計）。\n",
    "\n",
    "- **約束條件：**\n",
    "  - 工廠 1 產能：$x_1 \\leq 4$\n",
    "  - 工廠 2 產能：$2x_2 \\leq 12$\n",
    "  - 工廠 3 產能：$3x_1 + 2x_2 \\leq 18$\n",
    "  - 非負性：$x_1 \\geq 0$, $x_2 \\geq 0$"
   ]
  },
  {
   "cell_type": "markdown",
   "metadata": {},
   "source": [
    "## 步驟 1：導入 Gurobi 並設置環境\n",
    "\n",
    "Gurobi 是一個強大的優化求解器，可以處理線性規劃、整數規劃和其他類型的數學優化問題。我們導入 `gurobipy` 模組以訪問其函數和類。\n"
   ]
  },
  {
   "cell_type": "code",
   "execution_count": 8,
   "metadata": {},
   "outputs": [],
   "source": [
    "import gurobipy as gp\n",
    "from gurobipy import GRB"
   ]
  },
  {
   "cell_type": "markdown",
   "metadata": {},
   "source": [
    "## 步驟 2：創建新模型\n",
    "\n",
    "我們創建一個新的模型對象，在其中添加我們的決策變數、目標函數和約束條件。為模型命名有助於識別它，特別是在處理多個模型時。\n"
   ]
  },
  {
   "cell_type": "code",
   "execution_count": 9,
   "metadata": {},
   "outputs": [],
   "source": [
    "# 創建新模型\n",
    "model = gp.Model('Wyndor_Glass_Co')"
   ]
  },
  {
   "cell_type": "markdown",
   "metadata": {},
   "source": [
    "## 步驟 3：定義決策變數\n",
    "\n",
    "決策變數代表我們要確定的數量。我們將 \\( x_1 \\) 和 \\( x_2 \\) 定義為連續變數，下界為 0（因為我們不能生產負數的產品批次）。`vtype` 參數設置為 `GRB.CONTINUOUS`，表示變數可以取任何非負實數值。"
   ]
  },
  {
   "cell_type": "code",
   "execution_count": 10,
   "metadata": {},
   "outputs": [],
   "source": [
    "# 添加決策變數\n",
    "x1 = model.addVar(name='x1', vtype=GRB.CONTINUOUS, lb=0)\n",
    "x2 = model.addVar(name='x2', vtype=GRB.CONTINUOUS, lb=0)"
   ]
  },
  {
   "cell_type": "markdown",
   "metadata": {},
   "source": [
    "## 步驟 4：設置目標函數\n",
    "\n",
    "目標函數代表優化問題的目標。在這個案例中，我們要最大化總利潤，計算為 \\( 3x_1 + 5x_2 \\)。`setObjective` 方法設置這個函數，我們指定 `GRB.MAXIMIZE` 來表示我們正在最大化目標。"
   ]
  },
  {
   "cell_type": "code",
   "execution_count": 11,
   "metadata": {},
   "outputs": [],
   "source": [
    "# 設置目標函數\n",
    "model.setObjective(3 * x1 + 5 * x2, GRB.MAXIMIZE)"
   ]
  },
  {
   "cell_type": "markdown",
   "metadata": {},
   "source": [
    "## 步驟 5：添加約束條件\n",
    "\n",
    "約束條件定義了解決方案必須滿足的限制或要求。我們使用 `addConstr` 方法將每個約束條件添加到模型中。\n",
    "\n",
    "- **工廠 1 產能約束**：\\( x_1 \\leq 4 \\)\n",
    "  - 限制產品 1 的生產每週最多 4 批。\n",
    "- **工廠 2 產能約束**：\\( 2x_2 \\leq 12 \\)\n",
    "  - 因為產品 2 的每批使用工廠 2 的 2 單位產能，總產能為 12 單位。\n",
    "- **工廠 3 產能約束**：\\( 3x_1 + 2x_2 \\leq 18 \\)\n",
    "  - 代表工廠 3 對兩種產品的綜合產能限制。\n",
    "\n",
    "每個約束條件都有一個名稱，便於識別。"
   ]
  },
  {
   "cell_type": "code",
   "execution_count": 12,
   "metadata": {},
   "outputs": [
    {
     "data": {
      "text/plain": [
       "<gurobi.Constr *Awaiting Model Update*>"
      ]
     },
     "execution_count": 12,
     "metadata": {},
     "output_type": "execute_result"
    }
   ],
   "source": [
    "# 添加約束條件\n",
    "model.addConstr(x1 <= 4, name='Plant1_Capacity')\n",
    "model.addConstr(2 * x2 <= 12, name='Plant2_Capacity')\n",
    "model.addConstr(3 * x1 + 2 * x2 <= 18, name='Plant3_Capacity')"
   ]
  },
  {
   "cell_type": "markdown",
   "metadata": {},
   "source": [
    "## 步驟 6：優化模型\n",
    "\n",
    "模型完全定義後，我們調用 `optimize` 方法來解決優化問題。Gurobi 使用先進的算法來有效地找到最優解。"
   ]
  },
  {
   "cell_type": "code",
   "execution_count": 13,
   "metadata": {},
   "outputs": [
    {
     "name": "stdout",
     "output_type": "stream",
     "text": [
      "Gurobi Optimizer version 11.0.3 build v11.0.3rc0 (mac64[arm] - Darwin 24.1.0 24B5046f)\n",
      "\n",
      "CPU model: Apple M2\n",
      "Thread count: 8 physical cores, 8 logical processors, using up to 8 threads\n",
      "\n",
      "Optimize a model with 3 rows, 2 columns and 4 nonzeros\n",
      "Model fingerprint: 0xc030cf3a\n",
      "Coefficient statistics:\n",
      "  Matrix range     [1e+00, 3e+00]\n",
      "  Objective range  [3e+00, 5e+00]\n",
      "  Bounds range     [0e+00, 0e+00]\n",
      "  RHS range        [4e+00, 2e+01]\n",
      "Presolve removed 2 rows and 0 columns\n",
      "Presolve time: 0.00s\n",
      "Presolved: 1 rows, 2 columns, 2 nonzeros\n",
      "\n",
      "Iteration    Objective       Primal Inf.    Dual Inf.      Time\n",
      "       0    4.5000000e+01   1.500000e+00   0.000000e+00      0s\n",
      "       1    3.6000000e+01   0.000000e+00   0.000000e+00      0s\n",
      "\n",
      "Solved in 1 iterations and 0.00 seconds (0.00 work units)\n",
      "Optimal objective  3.600000000e+01\n"
     ]
    }
   ],
   "source": [
    "# 優化模型\n",
    "model.optimize()"
   ]
  },
  {
   "cell_type": "code",
   "execution_count": 14,
   "metadata": {},
   "outputs": [
    {
     "name": "stdout",
     "output_type": "stream",
     "text": [
      "找到最優解：\n",
      "  x1（每週產品 1 的批次數）= 2.0\n",
      "  x2（每週產品 2 的批次數）= 6.0\n",
      "  最大利潤（以千美元計）= 36.0\n"
     ]
    }
   ],
   "source": [
    "# 檢查模型是否有最優解\n",
    "if model.status == GRB.OPTIMAL:\n",
    "    print(\"找到最優解：\")\n",
    "    print(f\"  x1（每週產品 1 的批次數）= {x1.x}\")\n",
    "    print(f\"  x2（每週產品 2 的批次數）= {x2.x}\")\n",
    "    print(f\"  最大利潤（以千美元計）= {model.objVal}\")\n",
    "else:\n",
    "    print(\"未找到最優解。\")"
   ]
  },
  {
   "cell_type": "markdown",
   "metadata": {},
   "source": [
    "## 結果解釋\n",
    "\n",
    "最優解提供了在滿足所有生產能力約束的同時，能最大化利潤的每種產品的批次數。最大利潤值表示每週的總利潤，以千美元計。"
   ]
  }
 ],
 "metadata": {
  "kernelspec": {
   "display_name": "Python 3",
   "language": "python",
   "name": "python3"
  },
  "language_info": {
   "codemirror_mode": {
    "name": "ipython",
    "version": 3
   },
   "file_extension": ".py",
   "mimetype": "text/x-python",
   "name": "python",
   "nbconvert_exporter": "python",
   "pygments_lexer": "ipython3",
   "version": "3.11.9"
  }
 },
 "nbformat": 4,
 "nbformat_minor": 2
}
