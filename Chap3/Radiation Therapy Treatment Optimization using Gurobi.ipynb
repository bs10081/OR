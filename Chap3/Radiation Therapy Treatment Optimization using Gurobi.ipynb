{
 "cells": [
  {
   "cell_type": "markdown",
   "metadata": {},
   "source": [
    "# Radiation Therapy Treatment Optimization using Gurobi\n",
    "\n",
    "In this example, we will model and solve a radiation therapy treatment optimization problem using Gurobi in Python. The objective is to minimize radiation exposure to healthy tissues while ensuring sufficient radiation dosage in tumor regions for cancer treatment.\n",
    "\n",
    "**Problem Description:**\n",
    "\n",
    "- **Decision Variables:**\n",
    "  - $x_1$, $x_2$: Continuous variables representing treatment intensities or geometries.\n",
    "  - **Binary variables (0/1):** Represent placement decisions (e.g., whether to place a radioactive seed in a specific location in brachytherapy).\n",
    "\n",
    "- **Objective Function:**\n",
    "  $$\n",
    "  \\text{Minimize } Z = 0.4x_1 + 0.5x_2\n",
    "  $$\n",
    "  Where $Z$ represents a weighted sum of treatment impacts (cost or damage to healthy tissues).\n",
    "\n",
    "- **Constraints:**\n",
    "  $$\n",
    "  0.3x_1 + 0.1x_2 \\leq 2.7\n",
    "  $$\n",
    "  $$\n",
    "  0.5x_1 + 0.5x_2 = 6\n",
    "  $$\n",
    "  $$\n",
    "  0.6x_1 + 0.4x_2 \\geq 6\n",
    "  $$\n",
    "  - Non-negativity constraints: $x_1 \\geq 0$, $x_2 \\geq 0$.\n",
    "\n",
    "This model is an example of a **mixed-integer programming** (MIP) problem, where continuous and binary decision variables are used together to optimize a medical treatment plan. This type of model is especially suitable for automated systems that need to make discrete decisions, such as placement of seeds in brachytherapy."
   ]
  },
  {
   "cell_type": "markdown",
   "metadata": {},
   "source": [
    "## Step 1: Import Gurobi and Set Up the Environment\n",
    "\n",
    "Gurobi is a powerful optimization solver that can handle linear programming, mixed-integer programming, and other types of mathematical optimization problems. We import the `gurobipy` module to access its functions and classes.\n"
   ]
  },
  {
   "cell_type": "code",
   "execution_count": 1,
   "metadata": {},
   "outputs": [],
   "source": [
    "import gurobipy as gp\n",
    "from gurobipy import GRB"
   ]
  },
  {
   "cell_type": "markdown",
   "metadata": {},
   "source": [
    "## Step 2: Create a New Model\n",
    "\n",
    "We create a new model object where we will add our decision variables, objective function, and constraints. Naming the model helps in identifying it, especially when dealing with multiple models.\n"
   ]
  },
  {
   "cell_type": "code",
   "execution_count": 2,
   "metadata": {},
   "outputs": [
    {
     "name": "stdout",
     "output_type": "stream",
     "text": [
      "Set parameter Username\n",
      "Academic license - for non-commercial use only - expires 2025-05-31\n"
     ]
    }
   ],
   "source": [
    "# Create a new model\n",
    "model = gp.Model('Radiation_Therapy_Optimization')"
   ]
  },
  {
   "cell_type": "markdown",
   "metadata": {},
   "source": [
    "## Step 3: Define Decision Variables\n",
    "\n",
    "We define our decision variables:\n",
    "\n",
    "- Continuous variables \\( x_1 \\) and \\( x_2 \\) representing treatment intensities.\n",
    "- Binary variables \\( y_1 \\) and \\( y_2 \\) representing placement decisions (e.g., whether to place a radioactive seed in a specific location).\n",
    "\n",
    "The continuous variables have a lower bound of 0. The binary variables can take values of 0 or 1."
   ]
  },
  {
   "cell_type": "code",
   "execution_count": 3,
   "metadata": {},
   "outputs": [],
   "source": [
    "# Add continuous decision variables\n",
    "x1 = model.addVar(name='x1', vtype=GRB.CONTINUOUS, lb=0)\n",
    "x2 = model.addVar(name='x2', vtype=GRB.CONTINUOUS, lb=0)\n",
    "\n",
    "# Add binary decision variables\n",
    "y1 = model.addVar(name='y1', vtype=GRB.BINARY)\n",
    "y2 = model.addVar(name='y2', vtype=GRB.BINARY)"
   ]
  },
  {
   "cell_type": "markdown",
   "metadata": {},
   "source": [
    "## Step 4: Set the Objective Function\n",
    "\n",
    "The objective function aims to minimize the weighted sum of treatment impacts on healthy tissues:\n",
    "\n",
    "\\[\n",
    "\\text{Minimize } Z = 0.4x_1 + 0.5x_2\n",
    "\\]\n",
    "\n",
    "We set this objective in the model using the `setObjective` method, specifying `GRB.MINIMIZE` to indicate that we are minimizing the objective."
   ]
  },
  {
   "cell_type": "code",
   "execution_count": 4,
   "metadata": {},
   "outputs": [],
   "source": [
    "# Set objective function\n",
    "model.setObjective(0.4 * x1 + 0.5 * x2, GRB.MINIMIZE)"
   ]
  },
  {
   "cell_type": "markdown",
   "metadata": {},
   "source": [
    "## Step 5: Add Constraints\n",
    "\n",
    "We add the constraints to the model using the `addConstr` method.\n",
    "\n",
    "### Constraint 1:\n",
    "\n",
    "$$\n",
    "0.3x_1 + 0.1x_2 \\leq 2.7\n",
    "$$\n",
    "\n",
    "This constraint limits the exposure to a particular sensitive area.\n",
    "\n",
    "### Constraint 2:\n",
    "\n",
    "$$\n",
    "0.5x_1 + 0.5x_2 = 6\n",
    "$$\n",
    "\n",
    "This constraint ensures that the total treatment intensity meets a required level.\n",
    "\n",
    "### Constraint 3:\n",
    "\n",
    "$$\n",
    "0.6x_1 + 0.4x_2 \\geq 6\n",
    "$$\n",
    "\n",
    "This constraint ensures sufficient radiation in the tumor region.\n",
    "\n",
    "### Linking Continuous and Binary Variables:\n",
    "\n",
    "If we want to model that the continuous variables $x_i$ can only be positive if the corresponding binary variable $y_i$ is 1 (i.e., treatment is applied), we can add the following constraints:\n",
    "\n",
    "$$\n",
    "x_i \\leq M y_i \\quad \\text{for } i = 1, 2\n",
    "$$\n",
    "\n",
    "Where $M$ is a sufficiently large constant.\n",
    "\n",
    "Assuming $M = 10$, we add these constraints to link $x_i$ and $y_i$."
   ]
  },
  {
   "cell_type": "code",
   "execution_count": 5,
   "metadata": {},
   "outputs": [
    {
     "data": {
      "text/plain": [
       "<gurobi.Constr *Awaiting Model Update*>"
      ]
     },
     "execution_count": 5,
     "metadata": {},
     "output_type": "execute_result"
    }
   ],
   "source": [
    "# Add constraints\n",
    "model.addConstr(0.3 * x1 + 0.1 * x2 <= 2.7, name='Constraint1')\n",
    "model.addConstr(0.5 * x1 + 0.5 * x2 == 6, name='Constraint2')\n",
    "model.addConstr(0.6 * x1 + 0.4 * x2 >= 6, name='Constraint3')\n",
    "\n",
    "# Linking constraints between x_i and y_i\n",
    "M = 10  # Large constant\n",
    "model.addConstr(x1 <= M * y1, name='Linking_x1_y1')\n",
    "model.addConstr(x2 <= M * y2, name='Linking_x2_y2')"
   ]
  },
  {
   "cell_type": "markdown",
   "metadata": {},
   "source": [
    "## Step 6: Optimize the Model\n",
    "\n",
    "With the model fully defined, we call the `optimize` method to solve the optimization problem. Gurobi uses advanced algorithms to find the optimal solution efficiently."
   ]
  },
  {
   "cell_type": "code",
   "execution_count": 6,
   "metadata": {},
   "outputs": [
    {
     "name": "stdout",
     "output_type": "stream",
     "text": [
      "Gurobi Optimizer version 11.0.3 build v11.0.3rc0 (mac64[arm] - Darwin 24.1.0 24B5046f)\n",
      "\n",
      "CPU model: Apple M2\n",
      "Thread count: 8 physical cores, 8 logical processors, using up to 8 threads\n",
      "\n",
      "Optimize a model with 5 rows, 4 columns and 10 nonzeros\n",
      "Model fingerprint: 0xe9022a0c\n",
      "Variable types: 2 continuous, 2 integer (2 binary)\n",
      "Coefficient statistics:\n",
      "  Matrix range     [1e-01, 1e+01]\n",
      "  Objective range  [4e-01, 5e-01]\n",
      "  Bounds range     [1e+00, 1e+00]\n",
      "  RHS range        [3e+00, 6e+00]\n",
      "Presolve removed 5 rows and 4 columns\n",
      "Presolve time: 0.00s\n",
      "Presolve: All rows and columns removed\n",
      "\n",
      "Explored 0 nodes (0 simplex iterations) in 0.01 seconds (0.00 work units)\n",
      "Thread count was 1 (of 8 available processors)\n",
      "\n",
      "Solution count 1: 5.25 \n",
      "\n",
      "Optimal solution found (tolerance 1.00e-04)\n",
      "Best objective 5.250000000000e+00, best bound 5.250000000000e+00, gap 0.0000%\n"
     ]
    }
   ],
   "source": [
    "# Optimize the model\n",
    "model.optimize()"
   ]
  },
  {
   "cell_type": "markdown",
   "metadata": {},
   "source": [
    "## Step 7: Display the Results\n",
    "\n",
    "After the optimization process, we can access the optimal values of the decision variables and the objective function value. We check if the model status is `GRB.OPTIMAL` to ensure that an optimal solution was found before attempting to display the results."
   ]
  },
  {
   "cell_type": "code",
   "execution_count": 7,
   "metadata": {},
   "outputs": [
    {
     "name": "stdout",
     "output_type": "stream",
     "text": [
      "Optimal solution found:\n",
      "  x1 (Treatment intensity 1) = 7.5\n",
      "  x2 (Treatment intensity 2) = 4.5\n",
      "  y1 (Placement decision 1) = 1.0\n",
      "  y2 (Placement decision 2) = 1.0\n",
      "  Minimum impact (Z) = 5.25\n"
     ]
    }
   ],
   "source": [
    "# Check if the model has an optimal solution\n",
    "if model.status == GRB.OPTIMAL:\n",
    "    print(\"Optimal solution found:\")\n",
    "    print(f\"  x1 (Treatment intensity 1) = {x1.x}\")\n",
    "    print(f\"  x2 (Treatment intensity 2) = {x2.x}\")\n",
    "    print(f\"  y1 (Placement decision 1) = {y1.x}\")\n",
    "    print(f\"  y2 (Placement decision 2) = {y2.x}\")\n",
    "    print(f\"  Minimum impact (Z) = {model.objVal}\")\n",
    "else:\n",
    "    print(\"No optimal solution found.\")"
   ]
  },
  {
   "cell_type": "markdown",
   "metadata": {},
   "source": [
    "## Interpretation of Results\n",
    "\n",
    "The optimal solution provides the treatment intensities and placement decisions that minimize the impact on healthy tissues while ensuring sufficient radiation dosage to tumor regions. The binary variables $ y_1 $ and  $ y_2 $ indicate whether the treatment is applied in specific locations."
   ]
  }
 ],
 "metadata": {
  "kernelspec": {
   "display_name": "Python 3",
   "language": "python",
   "name": "python3"
  },
  "language_info": {
   "codemirror_mode": {
    "name": "ipython",
    "version": 3
   },
   "file_extension": ".py",
   "mimetype": "text/x-python",
   "name": "python",
   "nbconvert_exporter": "python",
   "pygments_lexer": "ipython3",
   "version": "3.11.9"
  }
 },
 "nbformat": 4,
 "nbformat_minor": 2
}
