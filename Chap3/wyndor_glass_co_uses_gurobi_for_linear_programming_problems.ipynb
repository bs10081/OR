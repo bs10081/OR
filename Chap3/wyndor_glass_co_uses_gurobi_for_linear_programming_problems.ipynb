{
 "cells": [
  {
   "cell_type": "markdown",
   "metadata": {},
   "source": [
    "# Wyndor Glass Co. Linear Programming Problem using Gurobi\n",
    "\n",
    "In this example, we will model and solve the Wyndor Glass Co. linear programming problem using Gurobi in Python. The objective is to maximize the total profit from producing two products, considering the production capacities of three plants.\n",
    "\n",
    "**Problem Description:**\n",
    "\n",
    "- **Decision Variables:**\n",
    "  - $x_1$: Number of batches of product 1 produced per week.\n",
    "  - $x_2$: Number of batches of product 2 produced per week.\n",
    "\n",
    "- **Objective Function:** \n",
    "  $$\n",
    "  \\text{Maximize } Z = 3x_1 + 5x_2\n",
    "  $$\n",
    "  Where $Z$ is the total profit per week (in thousands of dollars).\n",
    "\n",
    "- **Constraints:**\n",
    "  - Plant 1 capacity: $x_1 \\leq 4$\n",
    "  - Plant 2 capacity: $2x_2 \\leq 12$\n",
    "  - Plant 3 capacity: $3x_1 + 2x_2 \\leq 18$\n",
    "  - Non-negativity: $x_1 \\geq 0$, $x_2 \\geq 0$"
   ]
  },
  {
   "cell_type": "markdown",
   "metadata": {},
   "source": [
    "## Step 1: Import Gurobi and Set Up the Environment\n",
    "\n",
    "Gurobi is a powerful optimization solver that can handle linear programming, integer programming, and other types of mathematical optimization problems. We import the `gurobipy` module to access its functions and classes.\n"
   ]
  },
  {
   "cell_type": "code",
   "execution_count": 8,
   "metadata": {},
   "outputs": [],
   "source": [
    "import gurobipy as gp\n",
    "from gurobipy import GRB"
   ]
  },
  {
   "cell_type": "markdown",
   "metadata": {},
   "source": [
    "## Step 2: Create a New Model\n",
    "\n",
    "We create a new model object where we will add our decision variables, objective function, and constraints. Naming the model helps in identifying it, especially when dealing with multiple models.\n"
   ]
  },
  {
   "cell_type": "code",
   "execution_count": 9,
   "metadata": {},
   "outputs": [],
   "source": [
    "# Create a new model\n",
    "model = gp.Model('Wyndor_Glass_Co')"
   ]
  },
  {
   "cell_type": "markdown",
   "metadata": {},
   "source": [
    "## Step 3: Define Decision Variables\n",
    "\n",
    "Decision variables represent the quantities we want to determine. We define \\( x_1 \\) and \\( x_2 \\) as continuous variables with a lower bound of 0 (since we cannot produce a negative number of product batches). The `vtype` parameter is set to `GRB.CONTINUOUS` to indicate that the variables can take any non-negative real values."
   ]
  },
  {
   "cell_type": "code",
   "execution_count": 10,
   "metadata": {},
   "outputs": [],
   "source": [
    "# Add decision variables\n",
    "x1 = model.addVar(name='x1', vtype=GRB.CONTINUOUS, lb=0)\n",
    "x2 = model.addVar(name='x2', vtype=GRB.CONTINUOUS, lb=0)"
   ]
  },
  {
   "cell_type": "markdown",
   "metadata": {},
   "source": [
    "## Step 4: Set the Objective Function\n",
    "\n",
    "The objective function represents the goal of the optimization problem. In this case, we want to maximize the total profit, which is calculated as \\( 3x_1 + 5x_2 \\). The `setObjective` method sets this function, and we specify `GRB.MAXIMIZE` to indicate that we are maximizing the objective."
   ]
  },
  {
   "cell_type": "code",
   "execution_count": 11,
   "metadata": {},
   "outputs": [],
   "source": [
    "# Set objective function\n",
    "model.setObjective(3 * x1 + 5 * x2, GRB.MAXIMIZE)"
   ]
  },
  {
   "cell_type": "markdown",
   "metadata": {},
   "source": [
    "## Step 5: Add Constraints\n",
    "\n",
    "Constraints define the limitations or requirements that the solution must satisfy. We use the `addConstr` method to add each constraint to the model.\n",
    "\n",
    "- **Plant 1 capacity constraint**: \\( x_1 \\leq 4 \\)\n",
    "  - Limits the production of product 1 to at most 4 batches per week.\n",
    "- **Plant 2 capacity constraint**: \\( 2x_2 \\leq 12 \\)\n",
    "  - Since each batch of product 2 uses 2 units of capacity at Plant 2, and the total capacity is 12 units.\n",
    "- **Plant 3 capacity constraint**: \\( 3x_1 + 2x_2 \\leq 18 \\)\n",
    "  - Represents the combined capacity limitations of Plant 3 for both products.\n",
    "\n",
    "Each constraint is given a name for easy identification."
   ]
  },
  {
   "cell_type": "code",
   "execution_count": 12,
   "metadata": {},
   "outputs": [
    {
     "data": {
      "text/plain": [
       "<gurobi.Constr *Awaiting Model Update*>"
      ]
     },
     "execution_count": 12,
     "metadata": {},
     "output_type": "execute_result"
    }
   ],
   "source": [
    "# Add constraints\n",
    "model.addConstr(x1 <= 4, name='Plant1_Capacity')\n",
    "model.addConstr(2 * x2 <= 12, name='Plant2_Capacity')\n",
    "model.addConstr(3 * x1 + 2 * x2 <= 18, name='Plant3_Capacity')"
   ]
  },
  {
   "cell_type": "markdown",
   "metadata": {},
   "source": [
    "## Step 6: Optimize the Model\n",
    "\n",
    "With the model fully defined, we call the `optimize` method to solve the optimization problem. Gurobi uses advanced algorithms to find the optimal solution efficiently."
   ]
  },
  {
   "cell_type": "code",
   "execution_count": 13,
   "metadata": {},
   "outputs": [
    {
     "name": "stdout",
     "output_type": "stream",
     "text": [
      "Gurobi Optimizer version 11.0.3 build v11.0.3rc0 (mac64[arm] - Darwin 24.1.0 24B5046f)\n",
      "\n",
      "CPU model: Apple M2\n",
      "Thread count: 8 physical cores, 8 logical processors, using up to 8 threads\n",
      "\n",
      "Optimize a model with 3 rows, 2 columns and 4 nonzeros\n",
      "Model fingerprint: 0xc030cf3a\n",
      "Coefficient statistics:\n",
      "  Matrix range     [1e+00, 3e+00]\n",
      "  Objective range  [3e+00, 5e+00]\n",
      "  Bounds range     [0e+00, 0e+00]\n",
      "  RHS range        [4e+00, 2e+01]\n",
      "Presolve removed 2 rows and 0 columns\n",
      "Presolve time: 0.00s\n",
      "Presolved: 1 rows, 2 columns, 2 nonzeros\n",
      "\n",
      "Iteration    Objective       Primal Inf.    Dual Inf.      Time\n",
      "       0    4.5000000e+01   1.500000e+00   0.000000e+00      0s\n",
      "       1    3.6000000e+01   0.000000e+00   0.000000e+00      0s\n",
      "\n",
      "Solved in 1 iterations and 0.00 seconds (0.00 work units)\n",
      "Optimal objective  3.600000000e+01\n"
     ]
    }
   ],
   "source": [
    "# Optimize the model\n",
    "model.optimize()"
   ]
  },
  {
   "cell_type": "code",
   "execution_count": 14,
   "metadata": {},
   "outputs": [
    {
     "name": "stdout",
     "output_type": "stream",
     "text": [
      "Optimal solution found:\n",
      "  x1 (Product 1 batches per week) = 2.0\n",
      "  x2 (Product 2 batches per week) = 6.0\n",
      "  Maximum Profit (in thousands of dollars) = 36.0\n"
     ]
    }
   ],
   "source": [
    "# Check if the model has an optimal solution\n",
    "if model.status == GRB.OPTIMAL:\n",
    "    print(\"Optimal solution found:\")\n",
    "    print(f\"  x1 (Product 1 batches per week) = {x1.x}\")\n",
    "    print(f\"  x2 (Product 2 batches per week) = {x2.x}\")\n",
    "    print(f\"  Maximum Profit (in thousands of dollars) = {model.objVal}\")\n",
    "else:\n",
    "    print(\"No optimal solution found.\")"
   ]
  },
  {
   "cell_type": "markdown",
   "metadata": {},
   "source": [
    "## Interpretation of Results\n",
    "\n",
    "The optimal solution provides the number of batches of each product that maximizes the profit while satisfying all production capacity constraints. The maximum profit value indicates the total profit per week in thousands of dollars."
   ]
  }
 ],
 "metadata": {
  "kernelspec": {
   "display_name": "Python 3",
   "language": "python",
   "name": "python3"
  },
  "language_info": {
   "codemirror_mode": {
    "name": "ipython",
    "version": 3
   },
   "file_extension": ".py",
   "mimetype": "text/x-python",
   "name": "python",
   "nbconvert_exporter": "python",
   "pygments_lexer": "ipython3",
   "version": "3.11.9"
  }
 },
 "nbformat": 4,
 "nbformat_minor": 2
}
